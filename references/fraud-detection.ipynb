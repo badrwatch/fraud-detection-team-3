{
 "cells": [
  {
   "cell_type": "code",
   "execution_count": 1,
   "id": "f1cb8bd6",
   "metadata": {
    "_cell_guid": "b1076dfc-b9ad-4769-8c92-a6c4dae69d19",
    "_uuid": "8f2839f25d086af736a60e9eeb907d3b93b6e0e5",
    "execution": {
     "iopub.execute_input": "2025-04-20T11:23:14.362194Z",
     "iopub.status.busy": "2025-04-20T11:23:14.361777Z",
     "iopub.status.idle": "2025-04-20T11:23:16.059158Z",
     "shell.execute_reply": "2025-04-20T11:23:16.058191Z"
    },
    "papermill": {
     "duration": 1.702666,
     "end_time": "2025-04-20T11:23:16.060560",
     "exception": false,
     "start_time": "2025-04-20T11:23:14.357894",
     "status": "completed"
    },
    "tags": []
   },
   "outputs": [
    {
     "name": "stdout",
     "output_type": "stream",
     "text": [
      "/kaggle/input/fraud-detection-in-transactions-dataset/fraud_detection.csv\n"
     ]
    }
   ],
   "source": [
    "# This Python 3 environment comes with many helpful analytics libraries installed\n",
    "# It is defined by the kaggle/python Docker image: https://github.com/kaggle/docker-python\n",
    "# For example, here's several helpful packages to load\n",
    "\n",
    "import numpy as np # linear algebra\n",
    "import pandas as pd # data processing, CSV file I/O (e.g. pd.read_csv)\n",
    "\n",
    "# Input data files are available in the read-only \"../input/\" directory\n",
    "# For example, running this (by clicking run or pressing Shift+Enter) will list all files under the input directory\n",
    "\n",
    "import os\n",
    "for dirname, _, filenames in os.walk('/kaggle/input'):\n",
    "    for filename in filenames:\n",
    "        print(os.path.join(dirname, filename))\n",
    "\n",
    "# You can write up to 20GB to the current directory (/kaggle/working/) that gets preserved as output when you create a version using \"Save & Run All\" \n",
    "# You can also write temporary files to /kaggle/temp/, but they won't be saved outside of the current session"
   ]
  },
  {
   "cell_type": "code",
   "execution_count": 2,
   "id": "ff1cd6b9",
   "metadata": {
    "execution": {
     "iopub.execute_input": "2025-04-20T11:23:16.066816Z",
     "iopub.status.busy": "2025-04-20T11:23:16.066186Z",
     "iopub.status.idle": "2025-04-20T11:23:16.072000Z",
     "shell.execute_reply": "2025-04-20T11:23:16.071237Z"
    },
    "papermill": {
     "duration": 0.010134,
     "end_time": "2025-04-20T11:23:16.073363",
     "exception": false,
     "start_time": "2025-04-20T11:23:16.063229",
     "status": "completed"
    },
    "tags": []
   },
   "outputs": [
    {
     "name": "stdout",
     "output_type": "stream",
     "text": [
      "/kaggle/input/fraud-detection-in-transactions-dataset/fraud_detection.csv\n"
     ]
    }
   ],
   "source": [
    "import os\n",
    "for dirname, _, filenames in os.walk('/kaggle/input'):\n",
    "    for filename in filenames:\n",
    "        print(os.path.join(dirname, filename))\n"
   ]
  },
  {
   "cell_type": "code",
   "execution_count": 3,
   "id": "e0fc0a28",
   "metadata": {
    "execution": {
     "iopub.execute_input": "2025-04-20T11:23:16.079126Z",
     "iopub.status.busy": "2025-04-20T11:23:16.078598Z",
     "iopub.status.idle": "2025-04-20T11:23:16.097532Z",
     "shell.execute_reply": "2025-04-20T11:23:16.096631Z"
    },
    "papermill": {
     "duration": 0.023324,
     "end_time": "2025-04-20T11:23:16.099031",
     "exception": false,
     "start_time": "2025-04-20T11:23:16.075707",
     "status": "completed"
    },
    "tags": []
   },
   "outputs": [],
   "source": [
    "df = pd.read_csv('/kaggle/input/fraud-detection-in-transactions-dataset/fraud_detection.csv')\n"
   ]
  },
  {
   "cell_type": "code",
   "execution_count": null,
   "id": "507cc9ab",
   "metadata": {
    "papermill": {
     "duration": 0.002104,
     "end_time": "2025-04-20T11:23:16.103704",
     "exception": false,
     "start_time": "2025-04-20T11:23:16.101600",
     "status": "completed"
    },
    "tags": []
   },
   "outputs": [],
   "source": []
  },
  {
   "cell_type": "code",
   "execution_count": 4,
   "id": "94a01355",
   "metadata": {
    "execution": {
     "iopub.execute_input": "2025-04-20T11:23:16.109709Z",
     "iopub.status.busy": "2025-04-20T11:23:16.108937Z",
     "iopub.status.idle": "2025-04-20T11:23:16.134214Z",
     "shell.execute_reply": "2025-04-20T11:23:16.133337Z"
    },
    "papermill": {
     "duration": 0.029654,
     "end_time": "2025-04-20T11:23:16.135548",
     "exception": false,
     "start_time": "2025-04-20T11:23:16.105894",
     "status": "completed"
    },
    "tags": []
   },
   "outputs": [
    {
     "data": {
      "text/html": [
       "<div>\n",
       "<style scoped>\n",
       "    .dataframe tbody tr th:only-of-type {\n",
       "        vertical-align: middle;\n",
       "    }\n",
       "\n",
       "    .dataframe tbody tr th {\n",
       "        vertical-align: top;\n",
       "    }\n",
       "\n",
       "    .dataframe thead th {\n",
       "        text-align: right;\n",
       "    }\n",
       "</style>\n",
       "<table border=\"1\" class=\"dataframe\">\n",
       "  <thead>\n",
       "    <tr style=\"text-align: right;\">\n",
       "      <th></th>\n",
       "      <th>transaction_id</th>\n",
       "      <th>amount</th>\n",
       "      <th>merchant_type</th>\n",
       "      <th>device_type</th>\n",
       "      <th>label</th>\n",
       "    </tr>\n",
       "  </thead>\n",
       "  <tbody>\n",
       "    <tr>\n",
       "      <th>0</th>\n",
       "      <td>1</td>\n",
       "      <td>46.93</td>\n",
       "      <td>travel</td>\n",
       "      <td>tablet</td>\n",
       "      <td>0</td>\n",
       "    </tr>\n",
       "    <tr>\n",
       "      <th>1</th>\n",
       "      <td>2</td>\n",
       "      <td>301.01</td>\n",
       "      <td>groceries</td>\n",
       "      <td>desktop</td>\n",
       "      <td>0</td>\n",
       "    </tr>\n",
       "    <tr>\n",
       "      <th>2</th>\n",
       "      <td>3</td>\n",
       "      <td>131.67</td>\n",
       "      <td>others</td>\n",
       "      <td>tablet</td>\n",
       "      <td>0</td>\n",
       "    </tr>\n",
       "    <tr>\n",
       "      <th>3</th>\n",
       "      <td>4</td>\n",
       "      <td>91.29</td>\n",
       "      <td>electronics</td>\n",
       "      <td>desktop</td>\n",
       "      <td>0</td>\n",
       "    </tr>\n",
       "    <tr>\n",
       "      <th>4</th>\n",
       "      <td>5</td>\n",
       "      <td>16.96</td>\n",
       "      <td>others</td>\n",
       "      <td>mobile</td>\n",
       "      <td>0</td>\n",
       "    </tr>\n",
       "    <tr>\n",
       "      <th>5</th>\n",
       "      <td>6</td>\n",
       "      <td>16.96</td>\n",
       "      <td>electronics</td>\n",
       "      <td>tablet</td>\n",
       "      <td>0</td>\n",
       "    </tr>\n",
       "    <tr>\n",
       "      <th>6</th>\n",
       "      <td>7</td>\n",
       "      <td>5.98</td>\n",
       "      <td>clothing</td>\n",
       "      <td>mobile</td>\n",
       "      <td>0</td>\n",
       "    </tr>\n",
       "    <tr>\n",
       "      <th>7</th>\n",
       "      <td>8</td>\n",
       "      <td>201.12</td>\n",
       "      <td>electronics</td>\n",
       "      <td>tablet</td>\n",
       "      <td>0</td>\n",
       "    </tr>\n",
       "    <tr>\n",
       "      <th>8</th>\n",
       "      <td>9</td>\n",
       "      <td>91.91</td>\n",
       "      <td>travel</td>\n",
       "      <td>mobile</td>\n",
       "      <td>0</td>\n",
       "    </tr>\n",
       "    <tr>\n",
       "      <th>9</th>\n",
       "      <td>10</td>\n",
       "      <td>123.13</td>\n",
       "      <td>groceries</td>\n",
       "      <td>tablet</td>\n",
       "      <td>0</td>\n",
       "    </tr>\n",
       "  </tbody>\n",
       "</table>\n",
       "</div>"
      ],
      "text/plain": [
       "   transaction_id  amount merchant_type device_type  label\n",
       "0               1   46.93        travel      tablet      0\n",
       "1               2  301.01     groceries     desktop      0\n",
       "2               3  131.67        others      tablet      0\n",
       "3               4   91.29   electronics     desktop      0\n",
       "4               5   16.96        others      mobile      0\n",
       "5               6   16.96   electronics      tablet      0\n",
       "6               7    5.98      clothing      mobile      0\n",
       "7               8  201.12   electronics      tablet      0\n",
       "8               9   91.91        travel      mobile      0\n",
       "9              10  123.13     groceries      tablet      0"
      ]
     },
     "execution_count": 4,
     "metadata": {},
     "output_type": "execute_result"
    }
   ],
   "source": [
    "df.head(10)"
   ]
  },
  {
   "cell_type": "code",
   "execution_count": 5,
   "id": "2e4773f6",
   "metadata": {
    "execution": {
     "iopub.execute_input": "2025-04-20T11:23:16.141948Z",
     "iopub.status.busy": "2025-04-20T11:23:16.141259Z",
     "iopub.status.idle": "2025-04-20T11:23:16.147396Z",
     "shell.execute_reply": "2025-04-20T11:23:16.146718Z"
    },
    "papermill": {
     "duration": 0.010541,
     "end_time": "2025-04-20T11:23:16.148659",
     "exception": false,
     "start_time": "2025-04-20T11:23:16.138118",
     "status": "completed"
    },
    "tags": []
   },
   "outputs": [
    {
     "data": {
      "text/plain": [
       "transaction_id      int64\n",
       "amount            float64\n",
       "merchant_type      object\n",
       "device_type        object\n",
       "label               int64\n",
       "dtype: object"
      ]
     },
     "execution_count": 5,
     "metadata": {},
     "output_type": "execute_result"
    }
   ],
   "source": [
    "df.dtypes"
   ]
  },
  {
   "cell_type": "code",
   "execution_count": 6,
   "id": "3639f33e",
   "metadata": {
    "execution": {
     "iopub.execute_input": "2025-04-20T11:23:16.154773Z",
     "iopub.status.busy": "2025-04-20T11:23:16.154517Z",
     "iopub.status.idle": "2025-04-20T11:23:18.149117Z",
     "shell.execute_reply": "2025-04-20T11:23:18.147986Z"
    },
    "papermill": {
     "duration": 1.999191,
     "end_time": "2025-04-20T11:23:18.150568",
     "exception": false,
     "start_time": "2025-04-20T11:23:16.151377",
     "status": "completed"
    },
    "tags": []
   },
   "outputs": [
    {
     "name": "stdout",
     "output_type": "stream",
     "text": [
      "              precision    recall  f1-score   support\n",
      "\n",
      "           0       0.94      0.97      0.96       187\n",
      "           1       0.25      0.15      0.19        13\n",
      "\n",
      "    accuracy                           0.92       200\n",
      "   macro avg       0.60      0.56      0.57       200\n",
      "weighted avg       0.90      0.92      0.91       200\n",
      "\n"
     ]
    }
   ],
   "source": [
    "from sklearn.model_selection import train_test_split\n",
    "from sklearn.preprocessing import OneHotEncoder\n",
    "from sklearn.ensemble import RandomForestClassifier\n",
    "from sklearn.pipeline import Pipeline\n",
    "from sklearn.compose import ColumnTransformer\n",
    "from sklearn.metrics import classification_report\n",
    "\n",
    "# Step 1: Drop 'transaction_id' if it's not useful for prediction\n",
    "df = df.drop(columns=['transaction_id'])\n",
    "\n",
    "# Step 2: Separate features and target\n",
    "X = df.drop('label', axis=1)\n",
    "y = df['label']\n",
    "\n",
    "# Step 3: Identify categorical and numeric columns\n",
    "categorical_features = ['merchant_type', 'device_type']\n",
    "numeric_features = ['amount']\n",
    "\n",
    "# Step 4: Define preprocessing steps\n",
    "preprocessor = ColumnTransformer(\n",
    "    transformers=[\n",
    "        ('cat', OneHotEncoder(handle_unknown='ignore'), categorical_features),\n",
    "    ],\n",
    "    remainder='passthrough'  # keep numeric features as-is\n",
    ")\n",
    "\n",
    "# Step 5: Create the model pipeline\n",
    "pipeline = Pipeline(steps=[\n",
    "    ('preprocessor', preprocessor),\n",
    "    ('classifier', RandomForestClassifier(random_state=42))\n",
    "])\n",
    "\n",
    "# Step 6: Train-test split\n",
    "X_train, X_test, y_train, y_test = train_test_split(X, y, test_size=0.2, random_state=42)\n",
    "\n",
    "# Step 7: Fit the model\n",
    "pipeline.fit(X_train, y_train)\n",
    "\n",
    "# Step 8: Make predictions and evaluate\n",
    "y_pred = pipeline.predict(X_test)\n",
    "print(classification_report(y_test, y_pred))\n"
   ]
  },
  {
   "cell_type": "code",
   "execution_count": 7,
   "id": "7d2a07a6",
   "metadata": {
    "execution": {
     "iopub.execute_input": "2025-04-20T11:23:18.159015Z",
     "iopub.status.busy": "2025-04-20T11:23:18.158167Z",
     "iopub.status.idle": "2025-04-20T11:23:19.187617Z",
     "shell.execute_reply": "2025-04-20T11:23:19.186410Z"
    },
    "papermill": {
     "duration": 1.036136,
     "end_time": "2025-04-20T11:23:19.189499",
     "exception": false,
     "start_time": "2025-04-20T11:23:18.153363",
     "status": "completed"
    },
    "tags": []
   },
   "outputs": [
    {
     "name": "stdout",
     "output_type": "stream",
     "text": [
      "\n",
      "--- Logistic Regression ---\n",
      "Accuracy: 0.935\n",
      "              precision    recall  f1-score   support\n",
      "\n",
      "           0       0.94      1.00      0.97       187\n",
      "           1       0.00      0.00      0.00        13\n",
      "\n",
      "    accuracy                           0.94       200\n",
      "   macro avg       0.47      0.50      0.48       200\n",
      "weighted avg       0.87      0.94      0.90       200\n",
      "\n"
     ]
    },
    {
     "name": "stderr",
     "output_type": "stream",
     "text": [
      "/usr/local/lib/python3.11/dist-packages/sklearn/metrics/_classification.py:1344: UndefinedMetricWarning: Precision and F-score are ill-defined and being set to 0.0 in labels with no predicted samples. Use `zero_division` parameter to control this behavior.\n",
      "  _warn_prf(average, modifier, msg_start, len(result))\n",
      "/usr/local/lib/python3.11/dist-packages/sklearn/metrics/_classification.py:1344: UndefinedMetricWarning: Precision and F-score are ill-defined and being set to 0.0 in labels with no predicted samples. Use `zero_division` parameter to control this behavior.\n",
      "  _warn_prf(average, modifier, msg_start, len(result))\n",
      "/usr/local/lib/python3.11/dist-packages/sklearn/metrics/_classification.py:1344: UndefinedMetricWarning: Precision and F-score are ill-defined and being set to 0.0 in labels with no predicted samples. Use `zero_division` parameter to control this behavior.\n",
      "  _warn_prf(average, modifier, msg_start, len(result))\n"
     ]
    },
    {
     "name": "stdout",
     "output_type": "stream",
     "text": [
      "\n",
      "--- Random Forest ---\n",
      "Accuracy: 0.915\n",
      "              precision    recall  f1-score   support\n",
      "\n",
      "           0       0.94      0.97      0.96       187\n",
      "           1       0.25      0.15      0.19        13\n",
      "\n",
      "    accuracy                           0.92       200\n",
      "   macro avg       0.60      0.56      0.57       200\n",
      "weighted avg       0.90      0.92      0.91       200\n",
      "\n",
      "\n",
      "--- SVM ---\n",
      "Accuracy: 0.935\n",
      "              precision    recall  f1-score   support\n",
      "\n",
      "           0       0.94      1.00      0.97       187\n",
      "           1       0.00      0.00      0.00        13\n",
      "\n",
      "    accuracy                           0.94       200\n",
      "   macro avg       0.47      0.50      0.48       200\n",
      "weighted avg       0.87      0.94      0.90       200\n",
      "\n",
      "\n",
      "--- KNN ---\n",
      "Accuracy: 0.935\n",
      "              precision    recall  f1-score   support\n",
      "\n",
      "           0       0.94      1.00      0.97       187\n",
      "           1       0.00      0.00      0.00        13\n",
      "\n",
      "    accuracy                           0.94       200\n",
      "   macro avg       0.47      0.50      0.48       200\n",
      "weighted avg       0.87      0.94      0.90       200\n",
      "\n",
      "\n",
      "--- XGBoost ---\n",
      "Accuracy: 0.93\n",
      "              precision    recall  f1-score   support\n",
      "\n",
      "           0       0.93      0.99      0.96       187\n",
      "           1       0.00      0.00      0.00        13\n",
      "\n",
      "    accuracy                           0.93       200\n",
      "   macro avg       0.47      0.50      0.48       200\n",
      "weighted avg       0.87      0.93      0.90       200\n",
      "\n"
     ]
    },
    {
     "name": "stderr",
     "output_type": "stream",
     "text": [
      "/usr/local/lib/python3.11/dist-packages/sklearn/metrics/_classification.py:1344: UndefinedMetricWarning: Precision and F-score are ill-defined and being set to 0.0 in labels with no predicted samples. Use `zero_division` parameter to control this behavior.\n",
      "  _warn_prf(average, modifier, msg_start, len(result))\n",
      "/usr/local/lib/python3.11/dist-packages/sklearn/metrics/_classification.py:1344: UndefinedMetricWarning: Precision and F-score are ill-defined and being set to 0.0 in labels with no predicted samples. Use `zero_division` parameter to control this behavior.\n",
      "  _warn_prf(average, modifier, msg_start, len(result))\n",
      "/usr/local/lib/python3.11/dist-packages/sklearn/metrics/_classification.py:1344: UndefinedMetricWarning: Precision and F-score are ill-defined and being set to 0.0 in labels with no predicted samples. Use `zero_division` parameter to control this behavior.\n",
      "  _warn_prf(average, modifier, msg_start, len(result))\n",
      "/usr/local/lib/python3.11/dist-packages/sklearn/metrics/_classification.py:1344: UndefinedMetricWarning: Precision and F-score are ill-defined and being set to 0.0 in labels with no predicted samples. Use `zero_division` parameter to control this behavior.\n",
      "  _warn_prf(average, modifier, msg_start, len(result))\n",
      "/usr/local/lib/python3.11/dist-packages/sklearn/metrics/_classification.py:1344: UndefinedMetricWarning: Precision and F-score are ill-defined and being set to 0.0 in labels with no predicted samples. Use `zero_division` parameter to control this behavior.\n",
      "  _warn_prf(average, modifier, msg_start, len(result))\n",
      "/usr/local/lib/python3.11/dist-packages/sklearn/metrics/_classification.py:1344: UndefinedMetricWarning: Precision and F-score are ill-defined and being set to 0.0 in labels with no predicted samples. Use `zero_division` parameter to control this behavior.\n",
      "  _warn_prf(average, modifier, msg_start, len(result))\n"
     ]
    }
   ],
   "source": [
    "import pandas as pd\n",
    "from sklearn.model_selection import train_test_split\n",
    "from sklearn.preprocessing import OneHotEncoder\n",
    "from sklearn.pipeline import Pipeline\n",
    "from sklearn.compose import ColumnTransformer\n",
    "from sklearn.metrics import accuracy_score, classification_report\n",
    "from sklearn.linear_model import LogisticRegression\n",
    "from sklearn.ensemble import RandomForestClassifier\n",
    "from sklearn.svm import SVC\n",
    "from sklearn.neighbors import KNeighborsClassifier\n",
    "\n",
    "# Optional: XGBoost (if installed)\n",
    "try:\n",
    "    from xgboost import XGBClassifier\n",
    "    has_xgb = True\n",
    "except ImportError:\n",
    "    has_xgb = False\n",
    "\n",
    "# ---- Assume df is already loaded and cleaned ----\n",
    "df = df.drop(columns=['transaction_id'], errors='ignore')\n",
    "X = df.drop('label', axis=1)\n",
    "y = df['label']\n",
    "\n",
    "# Preprocessing\n",
    "categorical_features = ['merchant_type', 'device_type']\n",
    "preprocessor = ColumnTransformer(\n",
    "    transformers=[\n",
    "        ('cat', OneHotEncoder(handle_unknown='ignore'), categorical_features),\n",
    "    ],\n",
    "    remainder='passthrough'  # 'amount' stays as-is\n",
    ")\n",
    "\n",
    "# Classifiers to try\n",
    "classifiers = {\n",
    "    'Logistic Regression': LogisticRegression(max_iter=1000),\n",
    "    'Random Forest': RandomForestClassifier(random_state=42),\n",
    "    'SVM': SVC(probability=True),\n",
    "    'KNN': KNeighborsClassifier()\n",
    "}\n",
    "\n",
    "if has_xgb:\n",
    "    classifiers['XGBoost'] = XGBClassifier(use_label_encoder=False, eval_metric='logloss')\n",
    "\n",
    "# Train-test split\n",
    "X_train, X_test, y_train, y_test = train_test_split(X, y, test_size=0.2, random_state=42)\n",
    "\n",
    "# Train and evaluate each model\n",
    "for name, clf in classifiers.items():\n",
    "    pipeline = Pipeline(steps=[\n",
    "        ('preprocessor', preprocessor),\n",
    "        ('classifier', clf)\n",
    "    ])\n",
    "    pipeline.fit(X_train, y_train)\n",
    "    y_pred = pipeline.predict(X_test)\n",
    "\n",
    "    print(f\"\\n--- {name} ---\")\n",
    "    print(\"Accuracy:\", accuracy_score(y_test, y_pred))\n",
    "    print(classification_report(y_test, y_pred))\n"
   ]
  }
 ],
 "metadata": {
  "kaggle": {
   "accelerator": "none",
   "dataSources": [
    {
     "datasetId": 7018088,
     "sourceId": 11234331,
     "sourceType": "datasetVersion"
    }
   ],
   "dockerImageVersionId": 31012,
   "isGpuEnabled": false,
   "isInternetEnabled": true,
   "language": "python",
   "sourceType": "notebook"
  },
  "kernelspec": {
   "display_name": "Python 3",
   "language": "python",
   "name": "python3"
  },
  "language_info": {
   "codemirror_mode": {
    "name": "ipython",
    "version": 3
   },
   "file_extension": ".py",
   "mimetype": "text/x-python",
   "name": "python",
   "nbconvert_exporter": "python",
   "pygments_lexer": "ipython3",
   "version": "3.11.11"
  },
  "papermill": {
   "default_parameters": {},
   "duration": 9.909836,
   "end_time": "2025-04-20T11:23:19.810481",
   "environment_variables": {},
   "exception": null,
   "input_path": "__notebook__.ipynb",
   "output_path": "__notebook__.ipynb",
   "parameters": {},
   "start_time": "2025-04-20T11:23:09.900645",
   "version": "2.6.0"
  }
 },
 "nbformat": 4,
 "nbformat_minor": 5
}
